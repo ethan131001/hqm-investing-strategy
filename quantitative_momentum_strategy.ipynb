{
 "cells": [
  {
   "cell_type": "markdown",
   "metadata": {},
   "source": [
    "# Quantitative Momentum Strategy\n",
    "\n",
    "\n",
    "\n",
    "\n",
    "## Library Imports\n"
   ]
  },
  {
   "cell_type": "code",
   "execution_count": null,
   "metadata": {},
   "outputs": [],
   "source": [
    "import numpy as np\n",
    "import pandas as pd\n",
    "import requests\n",
    "import math\n",
    "from scipy import stats\n",
    "import xlsxwriter\n",
    "from datetime import datetime, timedelta\n",
    "import wikipediaapi"
   ]
  },
  {
   "cell_type": "markdown",
   "metadata": {},
   "source": [
    "## Importing Our List of Stocks\n"
   ]
  },
  {
   "cell_type": "code",
   "execution_count": null,
   "metadata": {},
   "outputs": [],
   "source": [
    "# Fetch current S&P 500 tickers from Wikipedia\n",
    "def fetch_sp500_tickers():\n",
    "    url = 'https://en.wikipedia.org/wiki/List_of_S%26P_500_companies'\n",
    "    sp500_table = pd.read_html(url)  # This reads all tables on the Wikipedia page\n",
    "    sp500_df = sp500_table[0]  # The first table contains the S&P 500 data\n",
    "    return sp500_df['Symbol'].tolist()  # Return list of tickers"
   ]
  },
  {
   "cell_type": "markdown",
   "metadata": {},
   "source": [
    "## Obtaining current date"
   ]
  },
  {
   "cell_type": "code",
   "execution_count": null,
   "metadata": {},
   "outputs": [],
   "source": [
    "def get_dates(T):\n",
    "    # Get the current date\n",
    "    current_date = datetime.now().date()\n",
    "    \n",
    "    # Calculate the date two years before\n",
    "    # If you want to account for leap years, you can use the replace method to go back exactly two years\n",
    "    two_years_before = current_date.replace(year=current_date.year - T)\n",
    "\n",
    "    return current_date, two_years_before"
   ]
  },
  {
   "cell_type": "markdown",
   "metadata": {},
   "source": [
    "## Building the High Quality Momentum Strategy\n",
    "\n",
    "To identify high-quality momentum, we select stocks from the highest percentiles of: \n",
    "\n",
    "* 1-month price returns\n",
    "* 3-month price returns\n",
    "* 6-month price returns\n",
    "* 1-year price returns"
   ]
  },
  {
   "cell_type": "code",
   "execution_count": null,
   "metadata": {},
   "outputs": [],
   "source": [
    "hqm_columns = ['Ticker', \n",
    "               'Price',  \n",
    "               'Number of Shares to Buy',\n",
    "              'One-Year Price Return',\n",
    "              'One-Year Return Percentile',\n",
    "              'Six-Month Price Return',\n",
    "              'Six-Month Return Percentile',\n",
    "              'Three-Month Price Return',\n",
    "              'Three-Month Return Percentile',\n",
    "              'One-Month Price Return',\n",
    "              'One-Month Return Percentile',\n",
    "              'HQM Score']\n",
    "hqm_dataframe= pd.DataFrame(columns = hqm_columns)\n",
    "hqm_dataframe"
   ]
  },
  {
   "cell_type": "markdown",
   "metadata": {},
   "source": [
    "## Importing Financial Data for desired stocks\n",
    "\n",
    "Here, financial data from the last 2 years is imported from using 'yfinance'."
   ]
  },
  {
   "cell_type": "code",
   "execution_count": null,
   "metadata": {},
   "outputs": [],
   "source": [
    "import yfinance as yf\n",
    "# Assume 'stocks' is a DataFrame or Series containing tickers\n",
    "# Assume 'hqm_columns' is defined with the necessary column names\n",
    "results = []  # Initialize a list to collect new rows\n",
    "\n",
    "T = 2 # 2 years of financial data desired\n",
    "\n",
    "#Calls function to get current date, and the date T years ago.\n",
    "current_date, two_years_before = get_dates(2)\n",
    "\n",
    "# Fetch S&P 500 tickers\n",
    "tickers = fetch_sp500_tickers()\n",
    "\n",
    "# Loop through the tickers\n",
    "for stock in tickers:\n",
    "    try:\n",
    "        # Download historical data for the stock\n",
    "        data = yf.download(stock, start=two_years_before, end=current_date)\n",
    "\n",
    "        # Check if 'Close' column exists and has data\n",
    "        if 'Close' in data.columns and not data['Close'].empty:\n",
    "            close = data['Close'].iloc[-1]  # Most recent closing price\n",
    "\n",
    "            # Calculate actual dates\n",
    "            last_date = data.index[-1]  # Most recent date in the data\n",
    "            date_1yr_ago = last_date - pd.DateOffset(years=1)\n",
    "            date_6m_ago = last_date - pd.DateOffset(months=6)\n",
    "            date_3m_ago = last_date - pd.DateOffset(months=3)\n",
    "            date_1m_ago = last_date - pd.DateOffset(months=1)\n",
    "\n",
    "            # Find the closest available dates using loc\n",
    "            closest_1yr = data.loc[:date_1yr_ago]['Close'].iloc[-1] if not data.loc[:date_1yr_ago].empty else float('nan')\n",
    "            closest_6m = data.loc[:date_6m_ago]['Close'].iloc[-1] if not data.loc[:date_6m_ago].empty else float('nan')\n",
    "            closest_3m = data.loc[:date_3m_ago]['Close'].iloc[-1] if not data.loc[:date_3m_ago].empty else float('nan')\n",
    "            closest_1m = data.loc[:date_1m_ago]['Close'].iloc[-1] if not data.loc[:date_1m_ago].empty else float('nan')\n",
    "\n",
    "            # Calculate returns\n",
    "            return1yr = (close - closest_1yr) / closest_1yr if pd.notna(closest_1yr) else float('nan')\n",
    "            return6m = (close - closest_6m) / closest_6m if pd.notna(closest_6m) else float('nan')\n",
    "            return3m = (close - closest_3m) / closest_3m if pd.notna(closest_3m) else float('nan')\n",
    "            return1m = (close - closest_1m) / closest_1m if pd.notna(closest_1m) else float('nan')\n",
    "\n",
    "            # Create a new row and add it to the results list\n",
    "            new_row = [stock, close, 'N/A', return1yr, '', return6m, '', return3m, '', return1m, '', 'N/A']\n",
    "            results.append(new_row)\n",
    "\n",
    "    except Exception as e:\n",
    "        print(f\"Error processing {stock}: {e}\")\n",
    "        continue\n",
    "        \n",
    "# Create the final DataFrame from the results list\n",
    "hqm_dataframe = pd.DataFrame(results, columns=hqm_columns)"
   ]
  },
  {
   "cell_type": "markdown",
   "metadata": {},
   "source": [
    "## Calculating Momentum Percentiles\n",
    "\n",
    "We now need to calculate momentum percentile scores for every stock in the universe. More specifically, we need to calculate percentile scores for the following metrics for every stock:\n",
    "\n",
    "* `One-Year Price Return`\n",
    "* `Six-Month Price Return`\n",
    "* `Three-Month Price Return`\n",
    "* `One-Month Price Return`\n",
    "\n",
    "Here's how we'll do this:"
   ]
  },
  {
   "cell_type": "code",
   "execution_count": null,
   "metadata": {},
   "outputs": [],
   "source": [
    "time_periods = [\n",
    "    'One-Year',\n",
    "    'Six-Month',\n",
    "    'Three-Month',\n",
    "    'One-Month'\n",
    "]\n",
    "\n",
    "# List of return columns\n",
    "return_columns = [\n",
    "    'One-Year Price Return',\n",
    "    'Six-Month Price Return',\n",
    "    'Three-Month Price Return',\n",
    "    'One-Month Price Return'\n",
    "]\n",
    "# Drop rows with NaN values in the specified columns\n",
    "hqm_dataframe = hqm_dataframe.dropna(subset=return_columns)\n",
    "\n",
    "hqm_dataframe"
   ]
  },
  {
   "cell_type": "code",
   "execution_count": null,
   "metadata": {},
   "outputs": [],
   "source": [
    "\n",
    "for row in hqm_dataframe.index:\n",
    "    for time_period in time_periods:\n",
    "      \n",
    "        hqm_dataframe.loc[row, f'{time_period} Return Percentile'] = stats.percentileofscore(hqm_dataframe[f'{time_period} Price Return'], hqm_dataframe.loc[row, f'{time_period} Price Return'])/100\n",
    "\n",
    "hqm_dataframe"
   ]
  },
  {
   "cell_type": "markdown",
   "metadata": {},
   "source": [
    "## Calculating the HQM Score\n",
    "\n",
    "We'll now calculate our `HQM Score`, which is the high-quality momentum score that we'll use to filter for stocks in this investing strategy.\n",
    "\n",
    "The `HQM Score` will be the arithmetic mean of the 4 momentum percentile scores that we calculated in the last section.\n",
    "\n",
    "To calculate arithmetic mean, we will use the `mean` function from Python's built-in `statistics` module."
   ]
  },
  {
   "cell_type": "code",
   "execution_count": null,
   "metadata": {},
   "outputs": [],
   "source": [
    "from statistics import mean\n",
    "\n",
    "for row in hqm_dataframe.index:\n",
    "    momentum_percentiles= []\n",
    "    for time_period in time_periods:\n",
    "        momentum_percentiles.append(hqm_dataframe.loc[row,f'{time_period} Return Percentile'])\n",
    "    hqm_dataframe.loc[row, 'HQM Score'] = mean(momentum_percentiles)\n",
    "\n",
    "\n",
    "hqm_dataframe\n",
    "\n"
   ]
  },
  {
   "cell_type": "markdown",
   "metadata": {},
   "source": [
    "## Selecting the 50 Best Momentum Stocks\n",
    "\n",
    "We can identify the 50 best momentum stocks by sorting the DataFrame on the `HQM Score` column and dropping all but the top 50 entries."
   ]
  },
  {
   "cell_type": "code",
   "execution_count": null,
   "metadata": {},
   "outputs": [],
   "source": [
    "hqm_dataframe.sort_values('HQM Score', ascending = False, inplace = True)\n",
    "hqm_dataframe = hqm_dataframe[:50]\n",
    "# Reset the index\n",
    "hqm_dataframe.reset_index(drop=True, inplace=True)\n",
    "\n",
    "hqm_dataframe\n"
   ]
  },
  {
   "cell_type": "markdown",
   "metadata": {},
   "source": [
    "## Calculating the Number of Shares to Buy\n",
    "\n",
    "Here, I create `portfolio_input` function to determine the desired size of the portfolio. Then I'll calculate the Number of shares to buy for each stock."
   ]
  },
  {
   "cell_type": "code",
   "execution_count": null,
   "metadata": {},
   "outputs": [],
   "source": [
    "def portfolio_input():\n",
    "    while True:\n",
    "        try:\n",
    "            # Ask for user input\n",
    "            portfolio_size = float(input(\"Enter your portfolio size: \"))\n",
    "            \n",
    "            # Check if the portfolio size is positive\n",
    "            if portfolio_size <= 0:\n",
    "                print(\"Portfolio size must be a positive number. Please try again.\")\n",
    "            else:\n",
    "                return portfolio_size\n",
    "        except ValueError:\n",
    "            print(\"Invalid input. Please enter a numeric value.\")\n",
    "            \n",
    "portfolio_size = portfolio_input()"
   ]
  },
  {
   "cell_type": "code",
   "execution_count": null,
   "metadata": {},
   "outputs": [],
   "source": [
    "position_size = float(portfolio_size)/len(hqm_dataframe.index)\n",
    "\n",
    "for i in range(len(hqm_dataframe)):\n",
    "    hqm_dataframe.loc[i, 'Number of Shares to Buy'] = (position_size/hqm_dataframe.loc[i, 'Price'])\n",
    "\n"
   ]
  },
  {
   "cell_type": "markdown",
   "metadata": {},
   "source": [
    "## Formatting Our Excel Output using xlsxwriter\n"
   ]
  },
  {
   "cell_type": "code",
   "execution_count": null,
   "metadata": {},
   "outputs": [],
   "source": [
    "writer = pd.ExcelWriter('equal_momentum_strategy.xlsx', engine = 'xlsxwriter')\n",
    "hqm_dataframe.to_excel(writer, sheet_name=\"Equal weighted HQM Strategy\", index = False)"
   ]
  },
  {
   "cell_type": "markdown",
   "metadata": {},
   "source": [
    "## Creating the Formats We'll Need For Our .xlsx File\n"
   ]
  },
  {
   "cell_type": "code",
   "execution_count": null,
   "metadata": {},
   "outputs": [],
   "source": [
    "background_color = '#0a0a23'\n",
    "font_color = '#ffffff'\n",
    "\n",
    "string_template = writer.book.add_format(\n",
    "        {\n",
    "            'font_color': font_color,\n",
    "            'bg_color': background_color,\n",
    "            'border': 1\n",
    "        }\n",
    "    )\n",
    "\n",
    "float_template = writer.book.add_format(\n",
    "        {\n",
    "            'num_format':'0.0',\n",
    "            'font_color': font_color,\n",
    "            'bg_color': background_color,\n",
    "            'border': 1\n",
    "        }\n",
    "    )\n",
    "\n",
    "dollar_template = writer.book.add_format(\n",
    "        {\n",
    "            'num_format':'$0.00',\n",
    "            'font_color': font_color,\n",
    "            'bg_color': background_color,\n",
    "            'border': 1\n",
    "        }\n",
    "    )\n",
    "\n",
    "integer_template = writer.book.add_format(\n",
    "        {\n",
    "            'num_format':'0',\n",
    "            'font_color': font_color,\n",
    "            'bg_color': background_color,\n",
    "            'border': 1\n",
    "        }\n",
    "    )\n",
    "\n",
    "percent_template = writer.book.add_format(\n",
    "        {\n",
    "            'num_format':'0.0%',\n",
    "            'font_color': font_color,\n",
    "            'bg_color': background_color,\n",
    "            'border': 1\n",
    "        }\n",
    "    )"
   ]
  },
  {
   "cell_type": "code",
   "execution_count": null,
   "metadata": {},
   "outputs": [],
   "source": [
    "column_formats = {\n",
    "    'A':[' Ticker', string_template], \n",
    "    'B':[' Price', dollar_template],  \n",
    "    'C':['Number of Shares to Buy', float_template],\n",
    "    'D':['One-Year Price Return', percent_template],\n",
    "    'E':['One-Year Return Percentile', percent_template],\n",
    "    'F':['Six-Month Price Return', percent_template],\n",
    "    'G':['Six-Month Return Percentile', percent_template],\n",
    "    'H':['Three-Month Price Return', percent_template],\n",
    "    'I':['Three-Month Return Percentile', percent_template],\n",
    "    'J':['One-Month Price Return', percent_template],\n",
    "    'K':['One-Month Return Percentile', percent_template],\n",
    "    'L':['HQM Score', percent_template]\n",
    "}\n",
    "\n",
    "for column in column_formats.keys():\n",
    "    writer.sheets['Equal weighted HQM Strategy'].set_column(f'{column}:{column}', 22, column_formats[column][1])\n",
    "\n"
   ]
  },
  {
   "cell_type": "markdown",
   "metadata": {},
   "source": [
    "## Saving Our Excel Output\n"
   ]
  },
  {
   "cell_type": "code",
   "execution_count": null,
   "metadata": {},
   "outputs": [],
   "source": [
    "writer.close()"
   ]
  },
  {
   "cell_type": "markdown",
   "metadata": {},
   "source": [
    "## Weighted Momentum Strategy\n",
    "\n",
    "Instead of equal weighting, we can adjust the strategy so that a higher momentum stocks have a larger weighting in the portfolio, proportional to their HQM score"
   ]
  },
  {
   "cell_type": "code",
   "execution_count": null,
   "metadata": {},
   "outputs": [],
   "source": [
    "\n",
    "# Normalize scores to get weights\n",
    "total_momentum_score_sum = hqm_dataframe['HQM Score'].sum()\n",
    "hqm_dataframe['Weight'] = hqm_dataframe['HQM Score'] / total_momentum_score_sum\n"
   ]
  },
  {
   "cell_type": "code",
   "execution_count": null,
   "metadata": {},
   "outputs": [],
   "source": [
    "# Calculation the postion size and hence number of shares to buy for each stock based on their HQM weighting.\n",
    "for i in range(len(hqm_dataframe)):\n",
    "    position_size = position_size = portfolio_size * hqm_dataframe.loc[i, 'Weight']\n",
    "    hqm_dataframe.loc[i, 'Number of Shares to Buy'] = math.floor(position_size/hqm_dataframe.loc[i, 'Price'])\n",
    "\n",
    "\n",
    "hqm_dataframe"
   ]
  },
  {
   "cell_type": "code",
   "execution_count": null,
   "metadata": {},
   "outputs": [],
   "source": [
    "\n",
    "writer = pd.ExcelWriter('unequal_momentum_strategy.xlsx', engine = 'xlsxwriter')\n",
    "hqm_dataframe.to_excel(writer, sheet_name=\"Weighted HQM Strategy\", index = False)"
   ]
  },
  {
   "cell_type": "code",
   "execution_count": null,
   "metadata": {},
   "outputs": [],
   "source": [
    "background_color = '#0a0a23'\n",
    "font_color = '#ffffff'\n",
    "string_template = writer.book.add_format(\n",
    "        {\n",
    "            'font_color': font_color,\n",
    "            'bg_color': background_color,\n",
    "            'border': 1\n",
    "        }\n",
    "    )\n",
    "\n",
    "float_template = writer.book.add_format(\n",
    "        {\n",
    "            'num_format':'0.0',\n",
    "            'font_color': font_color,\n",
    "            'bg_color': background_color,\n",
    "            'border': 1\n",
    "        }\n",
    "    )\n",
    "\n",
    "dollar_template = writer.book.add_format(\n",
    "        {\n",
    "            'num_format':'$0.00',\n",
    "            'font_color': font_color,\n",
    "            'bg_color': background_color,\n",
    "            'border': 1\n",
    "        }\n",
    "    )\n",
    "\n",
    "integer_template = writer.book.add_format(\n",
    "        {\n",
    "            'num_format':'0',\n",
    "            'font_color': font_color,\n",
    "            'bg_color': background_color,\n",
    "            'border': 1\n",
    "        }\n",
    "    )\n",
    "\n",
    "percent_template = writer.book.add_format(\n",
    "        {\n",
    "            'num_format':'0.0%',\n",
    "            'font_color': font_color,\n",
    "            'bg_color': background_color,\n",
    "            'border': 1\n",
    "        }\n",
    "    )"
   ]
  },
  {
   "cell_type": "code",
   "execution_count": null,
   "metadata": {},
   "outputs": [],
   "source": [
    "column_formats = {\n",
    "    'A':[' Ticker', string_template], \n",
    "    'B':[' Price', dollar_template],  \n",
    "    'C':['Number of Shares to Buy', float_template],\n",
    "    'D':['One-Year Price Return', percent_template],\n",
    "    'E':['One-Year Return Percentile', percent_template],\n",
    "    'F':['Six-Month Price Return', percent_template],\n",
    "    'G':['Six-Month Return Percentile', percent_template],\n",
    "    'H':['Three-Month Price Return', percent_template],\n",
    "    'I':['Three-Month Return Percentile', percent_template],\n",
    "    'J':['One-Month Price Return', percent_template],\n",
    "    'K':['One-Month Return Percentile', percent_template],\n",
    "    'L':['HQM Score', percent_template],\n",
    "    'M':['Weight', percent_template]\n",
    "}\n",
    "\n",
    "for column in column_formats.keys():\n",
    "    writer.sheets['Weighted HQM Strategy'].set_column(f'{column}:{column}', 22, column_formats[column][1])\n",
    "\n",
    "\n",
    "writer.close()"
   ]
  },
  {
   "cell_type": "code",
   "execution_count": null,
   "metadata": {},
   "outputs": [],
   "source": []
  },
  {
   "cell_type": "code",
   "execution_count": null,
   "metadata": {},
   "outputs": [],
   "source": [
    "def backtest_strategy(start_date, end_date, hqm_dataframe):\n",
    "    portfolio_values = []\n",
    "    benchmark_data = yf.download('^GSPC', start=start_date, end=end_date)\n",
    "    benchmark_returns = benchmark_data['Close'].pct_change().dropna()\n",
    "\n",
    "    # Convert benchmark returns to a DataFrame to align with other data\n",
    "    benchmark_returns = pd.DataFrame(benchmark_returns)\n",
    "    benchmark_returns.columns = ['Benchmark Return']\n",
    "\n",
    "    for index, row in hqm_dataframe.iterrows():\n",
    "        ticker = row['Ticker']\n",
    "        shares = row['Number of Shares to Buy']\n",
    "        \n",
    "        \n",
    "\n",
    "        stock_data = yf.download(ticker, start=start_date, end=end_date)\n",
    "        stock_returns = stock_data['Close'].pct_change().dropna()\n",
    "\n",
    "        # Align stock_returns with benchmark_returns\n",
    "        combined_returns = stock_returns.to_frame().merge(benchmark_returns, left_index=True, right_index=True, how='inner')\n",
    "        \n",
    "        if combined_returns.empty:\n",
    "            print(f\"No matching data for {ticker}.\")\n",
    "            continue\n",
    "\n",
    "        # Calculate portfolio value change based on stock returns and number of shares\n",
    "        portfolio_value = (combined_returns['Close'] * shares).sum()\n",
    "        portfolio_values.append(portfolio_value)\n",
    "\n",
    "    # Calculate total portfolio return\n",
    "    total_portfolio_return = np.sum(portfolio_values)\n",
    "    total_benchmark_return = benchmark_returns['Benchmark Return'].sum()\n",
    "\n",
    "    return total_portfolio_return, total_benchmark_return\n",
    "\n",
    "# Define backtesting period\n",
    "backtest_start_date = two_years_before\n",
    "backtest_end_date = current_date\n",
    "\n",
    "# Perform backtest\n",
    "portfolio_return, benchmark_return = backtest_strategy(backtest_start_date, backtest_end_date, hqm_dataframe)\n",
    "print(f\"Portfolio Return: {portfolio_return:.2%}\")\n",
    "print(f\"Benchmark Return: {benchmark_return:.2%}\")\n"
   ]
  },
  {
   "cell_type": "code",
   "execution_count": null,
   "metadata": {},
   "outputs": [],
   "source": []
  }
 ],
 "metadata": {
  "kernelspec": {
   "display_name": "Python 3 (ipykernel)",
   "language": "python",
   "name": "python3"
  },
  "language_info": {
   "codemirror_mode": {
    "name": "ipython",
    "version": 3
   },
   "file_extension": ".py",
   "mimetype": "text/x-python",
   "name": "python",
   "nbconvert_exporter": "python",
   "pygments_lexer": "ipython3",
   "version": "3.12.4"
  }
 },
 "nbformat": 4,
 "nbformat_minor": 4
}
